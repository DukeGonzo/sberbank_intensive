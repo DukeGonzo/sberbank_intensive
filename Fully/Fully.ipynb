{
 "cells": [
  {
   "cell_type": "markdown",
   "metadata": {},
   "source": [
    "# Полносвязная нейронная сеть"
   ]
  },
  {
   "cell_type": "markdown",
   "metadata": {},
   "source": [
    "![NN](imgs/nn.png)"
   ]
  },
  {
   "cell_type": "markdown",
   "metadata": {},
   "source": [
    "## $ y = Softmax( \\phi_4( \\phi_3 ( (\\phi_2 ( \\phi_1 ( X W_1 + b_1 ) W_2 + b_2  ) ) W_3 + b_3) W_4 + b_4 ) ) $"
   ]
  },
  {
   "cell_type": "markdown",
   "metadata": {},
   "source": [
    "--------"
   ]
  },
  {
   "cell_type": "code",
   "execution_count": 1,
   "metadata": {},
   "outputs": [],
   "source": [
    "import numpy as np"
   ]
  },
  {
   "cell_type": "code",
   "execution_count": 2,
   "metadata": {},
   "outputs": [
    {
     "name": "stdout",
     "output_type": "stream",
     "text": [
      "[[0 1 2]]\n"
     ]
    }
   ],
   "source": [
    "scores = np.arange(3).reshape(1,3)\n",
    "print(scores)"
   ]
  },
  {
   "cell_type": "code",
   "execution_count": 3,
   "metadata": {},
   "outputs": [],
   "source": [
    "def softmax_naive(x):\n",
    "    denom = np.sum(np.exp(x))\n",
    "    s = np.exp(x) / denom\n",
    "    return s"
   ]
  },
  {
   "cell_type": "code",
   "execution_count": 4,
   "metadata": {},
   "outputs": [],
   "source": [
    "def softmax(x):\n",
    "    shifted_x = x - np.max(x, axis=1, keepdims=True)\n",
    "    denom = np.sum(np.exp(shifted_x), axis=1, keepdims=True)\n",
    "    log_s = shifted_x - np.log(denom)\n",
    "    s = np.exp(log_s)\n",
    "    return s"
   ]
  },
  {
   "cell_type": "code",
   "execution_count": 5,
   "metadata": {},
   "outputs": [
    {
     "name": "stdout",
     "output_type": "stream",
     "text": [
      "[[ 0.09003057  0.24472847  0.66524096]]\n"
     ]
    }
   ],
   "source": [
    "print(softmax_naive(scores))"
   ]
  },
  {
   "cell_type": "code",
   "execution_count": 6,
   "metadata": {},
   "outputs": [
    {
     "name": "stdout",
     "output_type": "stream",
     "text": [
      "[[ 0.09003057  0.24472847  0.66524096]]\n"
     ]
    }
   ],
   "source": [
    "print(softmax(scores))"
   ]
  },
  {
   "cell_type": "markdown",
   "metadata": {},
   "source": [
    "----------"
   ]
  },
  {
   "cell_type": "markdown",
   "metadata": {},
   "source": [
    "# Режим задачу скоринга с помощью полносвязной нейронной сети\n",
    "\n",
    "Данные скачиваем с страницы датасета: \n",
    "https://www.kaggle.com/c/porto-seguro-safe-driver-prediction/data"
   ]
  },
  {
   "cell_type": "code",
   "execution_count": 22,
   "metadata": {},
   "outputs": [],
   "source": [
    "import pandas as pd\n",
    "\n",
    "from keras.models import Sequential\n",
    "from keras.layers import Dropout\n",
    "from keras.layers.normalization import BatchNormalization\n",
    "from keras import regularizers\n",
    "from keras.layers import Dense\n",
    "from keras.optimizers import Adam\n",
    "from keras.utils import custom_object_scope\n",
    "from keras import callbacks\n",
    "\n",
    "from sklearn.metrics import roc_auc_score\n",
    "from sklearn import preprocessing\n",
    "from sklearn.cross_validation import train_test_split\n",
    "from sklearn.metrics import precision_recall_curve\n",
    "\n",
    "import matplotlib.pyplot as plt\n",
    "%matplotlib inline"
   ]
  },
  {
   "cell_type": "code",
   "execution_count": 8,
   "metadata": {},
   "outputs": [],
   "source": [
    "# train and test data path\n",
    "DATA_TRAIN_PATH = 'data/train.csv'\n",
    "DATA_TEST_PATH = 'data/test.csv'"
   ]
  },
  {
   "cell_type": "code",
   "execution_count": 9,
   "metadata": {},
   "outputs": [],
   "source": [
    "featuresToDrop = [\n",
    "    'ps_calc_10',\n",
    "    'ps_calc_01',\n",
    "    'ps_calc_02',\n",
    "    'ps_calc_03',\n",
    "    'ps_calc_13',\n",
    "    'ps_calc_08',\n",
    "    'ps_calc_07',\n",
    "    'ps_calc_12',\n",
    "    'ps_calc_04',\n",
    "    'ps_calc_17_bin',\n",
    "    'ps_car_10_cat',\n",
    "    'ps_car_11_cat',\n",
    "    'ps_calc_14',\n",
    "    'ps_calc_11',\n",
    "    'ps_calc_06',\n",
    "    'ps_calc_16_bin',\n",
    "    'ps_calc_19_bin',\n",
    "    'ps_calc_20_bin',\n",
    "    'ps_calc_15_bin',\n",
    "    'ps_ind_11_bin',\n",
    "    'ps_ind_10_bin'\n",
    "]"
   ]
  },
  {
   "cell_type": "code",
   "execution_count": 10,
   "metadata": {},
   "outputs": [],
   "source": [
    "def create_model(input_dim, \n",
    "                 first_layer_size, \n",
    "                 second_layer_size, \n",
    "                 third_layer_size, \n",
    "                 lr, \n",
    "                 l2reg, \n",
    "                 dropout) :\n",
    "    \n",
    "    reg = regularizers.l2(l2reg)\n",
    "\n",
    "    model = Sequential()\n",
    "\n",
    "    model.add(Dense(units=first_layer_size, kernel_initializer='lecun_normal', kernel_regularizer=reg, activation='relu', input_dim=input_dim))\n",
    "    model.add(BatchNormalization())\n",
    "    model.add(Dropout(dropout))\n",
    "\n",
    "    model.add(Dense(units=second_layer_size, kernel_initializer='lecun_normal', activation='relu', kernel_regularizer=reg))\n",
    "    model.add(BatchNormalization(axis=1))\n",
    "    model.add(Dropout(dropout))\n",
    "\n",
    "    model.add(Dense(units=third_layer_size, kernel_initializer='lecun_normal', activation='relu', kernel_regularizer=reg))\n",
    "    model.add(BatchNormalization())\n",
    "    model.add(Dropout(dropout))\n",
    "\n",
    "    model.add(Dense(1, kernel_initializer='lecun_normal', activation='sigmoid'))\n",
    "\n",
    "    # classifier.compile(loss='mean_absolute_error', optimizer='rmsprop', metrics=['mae', 'accuracy'])\n",
    "    opt = Adam(lr=lr, beta_1=0.9, beta_2=0.999, epsilon=1e-08, decay=0.0)\n",
    "    model.compile(loss='binary_crossentropy', metrics=['accuracy'], optimizer=opt)  # not sure whether to use metrics here?\n",
    "    return model"
   ]
  },
  {
   "cell_type": "code",
   "execution_count": 14,
   "metadata": {
    "scrolled": true
   },
   "outputs": [
    {
     "name": "stdout",
     "output_type": "stream",
     "text": [
      "scaling  ps_ind_01  to  ps_ind_01_scaled\n",
      "scaling  ps_ind_03  to  ps_ind_03_scaled\n",
      "scaling  ps_ind_14  to  ps_ind_14_scaled\n",
      "scaling  ps_ind_15  to  ps_ind_15_scaled\n",
      "scaling  ps_reg_01  to  ps_reg_01_scaled\n",
      "scaling  ps_reg_02  to  ps_reg_02_scaled\n",
      "scaling  ps_reg_03  to  ps_reg_03_scaled\n",
      "scaling  ps_car_12  to  ps_car_12_scaled\n",
      "scaling  ps_car_13  to  ps_car_13_scaled\n",
      "scaling  ps_car_14  to  ps_car_14_scaled\n",
      "scaling  ps_car_15  to  ps_car_15_scaled\n",
      "scaling  ps_calc_05  to  ps_calc_05_scaled\n",
      "scaling  ps_calc_09  to  ps_calc_09_scaled\n"
     ]
    },
    {
     "name": "stderr",
     "output_type": "stream",
     "text": [
      "/Users/kovalenko/anaconda3/lib/python3.6/site-packages/sklearn/utils/validation.py:475: DataConversionWarning: Data with input dtype int64 was converted to float64 by MinMaxScaler.\n",
      "  warnings.warn(msg, DataConversionWarning)\n"
     ]
    }
   ],
   "source": [
    "def scale_features(df_for_range, df_to_scale, columnsToScale) :\n",
    "\n",
    "    columnsOut = list(map( (lambda x: x + \"_scaled\"), columnsToScale))\n",
    "    for c, co in zip(columnsToScale, columnsOut) :\n",
    "        scaler = preprocessing.MinMaxScaler(feature_range=(-1,1))\n",
    "        print(\"scaling \", c ,\" to \",co)\n",
    "        vals = df_for_range[c].values.reshape(-1, 1)\n",
    "        scaler.fit(vals )\n",
    "        df_to_scale[co]=scaler.transform(df_to_scale[c].values.reshape(-1,1))\n",
    "\n",
    "    df_to_scale.drop (columnsToScale, axis=1, inplace = True)\n",
    "\n",
    "    return df_to_scale\n",
    "\n",
    "def one_hot (df, cols):\n",
    "    df = pd.concat([df, pd.get_dummies(df[cols], columns=cols)], axis=1)\n",
    "    df.drop(cols, axis=1, inplace = True)\n",
    "    return df\n",
    "\n",
    "\n",
    "X_train = pd.read_csv(DATA_TRAIN_PATH, index_col = \"id\")\n",
    "\n",
    "y_train = pd.DataFrame(index = X_train.index)\n",
    "y_train['target'] = X_train.loc[:,'target']\n",
    "\n",
    "X_train.drop ('target', axis=1, inplace = True)\n",
    "X_train.drop (featuresToDrop, axis=1, inplace = True)\n",
    "\n",
    "X_train.rename(columns={'ps_car_11': 'ps_car_11a_cat'}, inplace=True)\n",
    "\n",
    "cat_cols = [elem for elem in list(X_train.columns) if \"cat\" in elem]\n",
    "bin_cols = [elem for elem in list(X_train.columns) if \"bin\" in elem]\n",
    "other_cols = [elem for elem in list(X_train.columns) if elem not in bin_cols and elem not in cat_cols]\n",
    "\n",
    "# Scale numeric features in region of -1,1 using training set as the scaling range\n",
    "X_train = scale_features(X_train, X_train, columnsToScale=other_cols)\n",
    "\n",
    "X_train = one_hot(X_train, cat_cols)\n",
    "\n",
    "X_train, X_test, y_train, y_test = train_test_split(X_train, y_train, test_size=0.33, random_state=42)"
   ]
  },
  {
   "cell_type": "code",
   "execution_count": 15,
   "metadata": {},
   "outputs": [],
   "source": [
    "model = create_model(input_dim=X_train.shape[1],\n",
    "                     first_layer_size=300,\n",
    "                     second_layer_size=200,\n",
    "                     third_layer_size=200,\n",
    "                     lr=0.0001,\n",
    "                     l2reg = 0.1,\n",
    "                     dropout = 0.2)"
   ]
  },
  {
   "cell_type": "code",
   "execution_count": 16,
   "metadata": {},
   "outputs": [
    {
     "name": "stdout",
     "output_type": "stream",
     "text": [
      "_________________________________________________________________\n",
      "Layer (type)                 Output Shape              Param #   \n",
      "=================================================================\n",
      "dense_1 (Dense)              (None, 300)               31800     \n",
      "_________________________________________________________________\n",
      "batch_normalization_1 (Batch (None, 300)               1200      \n",
      "_________________________________________________________________\n",
      "dropout_1 (Dropout)          (None, 300)               0         \n",
      "_________________________________________________________________\n",
      "dense_2 (Dense)              (None, 200)               60200     \n",
      "_________________________________________________________________\n",
      "batch_normalization_2 (Batch (None, 200)               800       \n",
      "_________________________________________________________________\n",
      "dropout_2 (Dropout)          (None, 200)               0         \n",
      "_________________________________________________________________\n",
      "dense_3 (Dense)              (None, 200)               40200     \n",
      "_________________________________________________________________\n",
      "batch_normalization_3 (Batch (None, 200)               800       \n",
      "_________________________________________________________________\n",
      "dropout_3 (Dropout)          (None, 200)               0         \n",
      "_________________________________________________________________\n",
      "dense_4 (Dense)              (None, 1)                 201       \n",
      "=================================================================\n",
      "Total params: 135,201\n",
      "Trainable params: 133,801\n",
      "Non-trainable params: 1,400\n",
      "_________________________________________________________________\n"
     ]
    }
   ],
   "source": [
    "model.summary()"
   ]
  },
  {
   "cell_type": "code",
   "execution_count": 17,
   "metadata": {},
   "outputs": [
    {
     "name": "stdout",
     "output_type": "stream",
     "text": [
      "Epoch 1/10\n",
      " - 23s - loss: 7.6005 - acc: 0.8980\n",
      "Epoch 2/10\n",
      " - 22s - loss: 0.1566 - acc: 0.9637\n",
      "Epoch 3/10\n",
      " - 23s - loss: 0.1546 - acc: 0.9637\n",
      "Epoch 4/10\n",
      " - 23s - loss: 0.1543 - acc: 0.9637\n",
      "Epoch 5/10\n",
      " - 23s - loss: 0.1542 - acc: 0.9637\n",
      "Epoch 6/10\n",
      " - 22s - loss: 0.1542 - acc: 0.9637\n",
      "Epoch 7/10\n",
      " - 22s - loss: 0.1541 - acc: 0.9637\n",
      "Epoch 8/10\n",
      " - 22s - loss: 0.1542 - acc: 0.9637\n",
      "Epoch 9/10\n",
      " - 22s - loss: 0.1541 - acc: 0.9637\n",
      "Epoch 10/10\n",
      " - 22s - loss: 0.1541 - acc: 0.9637\n"
     ]
    },
    {
     "data": {
      "text/plain": [
       "<keras.callbacks.History at 0x10b716e80>"
      ]
     },
     "execution_count": 17,
     "metadata": {},
     "output_type": "execute_result"
    }
   ],
   "source": [
    "model.fit(x=np.array(X_train), \n",
    "          y=np.array(y_train),\n",
    "          verbose=2,\n",
    "          batch_size=128, \n",
    "          epochs=10)"
   ]
  },
  {
   "cell_type": "code",
   "execution_count": 18,
   "metadata": {},
   "outputs": [],
   "source": [
    "y_score = model.predict_proba(X_test)"
   ]
  },
  {
   "cell_type": "code",
   "execution_count": 26,
   "metadata": {},
   "outputs": [
    {
     "data": {
      "text/plain": [
       "(0.0, 1.0)"
      ]
     },
     "execution_count": 26,
     "metadata": {},
     "output_type": "execute_result"
    },
    {
     "data": {
      "image/png": "[encoded data removed]",
      "text/plain": [
       "<matplotlib.figure.Figure at 0x130cd50b8>"
      ]
     },
     "metadata": {},
     "output_type": "display_data"
    }
   ],
   "source": [
    "precision, recall, _ = precision_recall_curve(y_test, y_score)\n",
    "\n",
    "plt.figure(figsize=(20 ,10))\n",
    "plt.step(recall, precision, color='b', alpha=0.2,\n",
    "         where='post')\n",
    "plt.fill_between(recall, precision, step='post', alpha=0.2,\n",
    "                 color='b')\n",
    "\n",
    "plt.xlabel('Recall')\n",
    "plt.ylabel('Precision')\n",
    "plt.ylim([0.0, 0.5])\n",
    "plt.xlim([0.0, 1.0])"
   ]
  },
  {
   "cell_type": "markdown",
   "metadata": {},
   "source": [
    "-------"
   ]
  },
  {
   "cell_type": "code",
   "execution_count": null,
   "metadata": {},
   "outputs": [],
   "source": []
  }
 ],
 "metadata": {
  "kernelspec": {
   "display_name": "Python 3",
   "language": "python",
   "name": "python3"
  },
  "language_info": {
   "codemirror_mode": {
    "name": "ipython",
    "version": 3
   },
   "file_extension": ".py",
   "mimetype": "text/x-python",
   "name": "python",
   "nbconvert_exporter": "python",
   "pygments_lexer": "ipython3",
   "version": "3.6.3"
  }
 },
 "nbformat": 4,
 "nbformat_minor": 2
}
