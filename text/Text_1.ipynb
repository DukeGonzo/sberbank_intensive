{
 "cells": [
  {
   "cell_type": "code",
   "execution_count": 58,
   "metadata": {},
   "outputs": [],
   "source": [
    "import sklearn\n",
    "import numpy as np\n",
    "from random import randrange\n",
    "from keras import layers, models, optimizers, backend, metrics, callbacks\n",
    "import codecs\n",
    "from keras.preprocessing import text, sequence\n",
    "from nltk.tokenize import word_tokenize\n",
    "import random\n",
    "\n",
    "import matplotlib.pyplot as plt\n",
    "plt.style.use('ggplot')\n",
    "%matplotlib inline\n",
    "plt.rcParams['figure.figsize'] = (15, 12) # set default size of plots"
   ]
  },
  {
   "cell_type": "code",
   "execution_count": 59,
   "metadata": {
    "collapsed": true
   },
   "outputs": [],
   "source": [
    "import csv"
   ]
  },
  {
   "cell_type": "markdown",
   "metadata": {},
   "source": [
    "Решим задачу классификации текстовых данных. В качестве датасета возьмём базу рецензий сайта IMDB, рецензии размечены на два класса: позитивные и негативные. Такая задача называется sentiment analysis"
   ]
  },
  {
   "cell_type": "markdown",
   "metadata": {},
   "source": [
    "1. Считаем данные из CSV файла"
   ]
  },
  {
   "cell_type": "code",
   "execution_count": 3,
   "metadata": {},
   "outputs": [],
   "source": [
    "texts = []\n",
    "labels = []\n",
    "with open('labeledTrainData.tsv', 'r') as csvfile:\n",
    "    reader = csv.reader(csvfile, delimiter='\\t')\n",
    "    _ = next(reader)\n",
    "    for l in reader:\n",
    "        texts.append(l[2])\n",
    "        labels.append(l[1])"
   ]
  },
  {
   "cell_type": "markdown",
   "metadata": {},
   "source": [
    "Убедимся, что данные считались корректно:"
   ]
  },
  {
   "cell_type": "code",
   "execution_count": 4,
   "metadata": {},
   "outputs": [
    {
     "data": {
      "text/plain": [
       "\"With all this stuff going down at the moment with MJ i've started listening to his music, watching the odd documentary here and there, watched The Wiz and watched Moonwalker again. Maybe i just want to get a certain insight into this guy who i thought was really cool in the eighties just to maybe make up my mind whether he is guilty or innocent. Moonwalker is part biography, part feature film which i remember going to see at the cinema when it was originally released. Some of it has subtle messages about MJ's feeling towards the press and also the obvious message of drugs are bad m'kay.<br /><br />Visually impressive but of course this is all about Michael Jackson so unless you remotely like MJ in anyway then you are going to hate this and find it boring. Some may call MJ an egotist for consenting to the making of this movie BUT MJ and most of his fans would say that he made it for the fans which if true is really nice of him.<br /><br />The actual feature film bit when it finally starts is only on for 20 minutes or so excluding the Smooth Criminal sequence and Joe Pesci is convincing as a psychopathic all powerful drug lord. Why he wants MJ dead so bad is beyond me. Because MJ overheard his plans? Nah, Joe Pesci's character ranted that he wanted people to know it is he who is supplying drugs etc so i dunno, maybe he just hates MJ's music.<br /><br />Lots of cool things in this like MJ turning into a car and a robot and the whole Speed Demon sequence. Also, the director must have had the patience of a saint when it came to filming the kiddy Bad sequence as usually directors hate working with one kid let alone a whole bunch of them performing a complex dance scene.<br /><br />Bottom line, this movie is for people who like MJ on one level or another (which i think is most people). If not, then stay away. It does try and give off a wholesome message and ironically MJ's bestest buddy in this movie is a girl! Michael Jackson is truly one of the most talented people ever to grace this planet but is he guilty? Well, with all the attention i've gave this subject....hmmm well i don't know because people can be different behind closed doors, i know this for a fact. He is either an extremely nice but stupid guy or one of the most sickest liars. I hope he is not the latter.\""
      ]
     },
     "execution_count": 4,
     "metadata": {},
     "output_type": "execute_result"
    }
   ],
   "source": [
    "texts[0]"
   ]
  },
  {
   "cell_type": "markdown",
   "metadata": {},
   "source": [
    "Теперь необходимо перевести текст в такое представление, с которым нам будет удобно работать. Существует модель [мешка слов](https://en.wikipedia.org/wiki/Bag-of-words_model), которая долгое время использовалась в классических методах. К сожалению, эта модель не учитывает семантическую информацию и векторы, присваиваемые словам, имеют большую размерность, что делает её не лучшим выбором для тренировки нейронной сети.\n",
    "\n",
    "Мы будем пользоваться [word embeddings](https://en.wikipedia.org/wiki/Word_embedding), специальными векторами рассчитанными таким образом, чтобы учитывать сематническую информацию и при этом иметь небольшой размер. Подробно про рассчёт embeddings на примере Word2Vec можно прочесть в [википедии](https://en.wikipedia.org/wiki/Word2vec), [оригинальносй статье](https://arxiv.org/abs/1301.3781) или слайдах курса.\n",
    "\n",
    "Существует несколько видов embedding'ов. Мы будем пользоваться [Glove](https://nlp.stanford.edu/pubs/glove.pdf). Скачайте векторы размерности 100 c сайта https://nlp.stanford.edu/projects/glove/ и положите в директорию с блокнотом. \n"
   ]
  },
  {
   "attachments": {},
   "cell_type": "markdown",
   "metadata": {},
   "source": [
    "![w2v.png](w2v.png)"
   ]
  },
  {
   "cell_type": "markdown",
   "metadata": {},
   "source": [
    "Vocab это вспомогательный класс, помогающий работать с вокабуляром. Внутри находятся два словаря, в одном хранится соответсвие между словами и индексами в glove, а в другом -- между индексами и словами."
   ]
  },
  {
   "cell_type": "code",
   "execution_count": 5,
   "metadata": {
    "collapsed": true
   },
   "outputs": [],
   "source": [
    "class Vocab(object):\n",
    "    w2i = None\n",
    "    i2w = None"
   ]
  },
  {
   "cell_type": "markdown",
   "metadata": {},
   "source": [
    "Следующая функция загружает Glove с диска. Обратите внимание, что добавляются два специальных ветора: один (PAD) отвечает за отступ, а другой (UNK) -- за неизвестное слово."
   ]
  },
  {
   "cell_type": "code",
   "execution_count": 6,
   "metadata": {
    "collapsed": true
   },
   "outputs": [],
   "source": [
    "def load_glove(filename, embedding_size=300):\n",
    "    vocabulary_mapping = {'PAD': 0}\n",
    "    temp = np.zeros(embedding_size)\n",
    "    embeddings_list = [[0] * embedding_size]\n",
    "    id = 1\n",
    "    with codecs.open(filename, 'rb', 'utf-8') as glove_file:\n",
    "        for line in glove_file:\n",
    "            items = line.strip().split()\n",
    "\n",
    "            if len(items) != embedding_size + 1:\n",
    "                continue\n",
    "\n",
    "            token = items[0]\n",
    "            embedding = np.array([float(i) for i in items[1:]])\n",
    "            temp += embedding\n",
    "            embeddings_list.append(embedding)\n",
    "            vocabulary_mapping[token] = id\n",
    "            id += 1\n",
    "\n",
    "    vocabulary_mapping['<UNK>'] = id\n",
    "    temp /= len(embeddings_list) - 2\n",
    "    embeddings_list.append(temp)\n",
    "    embeddings = np.array(embeddings_list)\n",
    "    vocab = Vocab()\n",
    "    vocab.i2w = {v: k for k, v in vocabulary_mapping.items()}\n",
    "    vocab.w2i = vocabulary_mapping\n",
    "    print('glove was loaded')\n",
    "    return embeddings, vocab"
   ]
  },
  {
   "cell_type": "markdown",
   "metadata": {},
   "source": [
    "Загрузим векторы с диска"
   ]
  },
  {
   "cell_type": "code",
   "execution_count": 7,
   "metadata": {},
   "outputs": [
    {
     "name": "stdout",
     "output_type": "stream",
     "text": [
      "glove was loaded\n"
     ]
    }
   ],
   "source": [
    "embeddings, vocab = load_glove('glove.6B.100d.txt', 100)"
   ]
  },
  {
   "cell_type": "markdown",
   "metadata": {},
   "source": [
    "Теперь напишем функцию, которая будет разбивать предложения на токены (слова), а затем каждому токену ставить в соответсвие индекс вектора из Glove. Ограничим марсимальный размер текста 128 словами (из соображений скорости вычислений)"
   ]
  },
  {
   "cell_type": "code",
   "execution_count": 8,
   "metadata": {
    "collapsed": true
   },
   "outputs": [],
   "source": [
    "def sent_to_id_vec(sent, vocab, max_len=128, mode='tokenize'):\n",
    "    sent = sent.lower()\n",
    "\n",
    "    if mode == 'tokenize':\n",
    "        tokens = word_tokenize(sent)\n",
    "    elif mode == 'split':\n",
    "        tokens = sent.split()\n",
    "    else:\n",
    "        raise Error(f'Unknown mode: {mode}')\n",
    "\n",
    "    if max_len is not None and len(tokens) > max_len:\n",
    "        tokens = (t for i, t in enumerate(tokens) if i < max_len)\n",
    "\n",
    "    result = []\n",
    "\n",
    "    for token in tokens:\n",
    "        if token in vocab.w2i:\n",
    "            result.append(vocab.w2i[token])\n",
    "        else:\n",
    "            result.append(vocab.w2i['<UNK>'])\n",
    "\n",
    "    return result"
   ]
  },
  {
   "cell_type": "markdown",
   "metadata": {},
   "source": [
    "Векторизуем наш датасет:"
   ]
  },
  {
   "cell_type": "code",
   "execution_count": 9,
   "metadata": {},
   "outputs": [],
   "source": [
    "sequences = []\n",
    "for t in texts:\n",
    "    temp = sent_to_id_vec(t, vocab)\n",
    "    sequences.append(temp)"
   ]
  },
  {
   "cell_type": "markdown",
   "metadata": {},
   "source": [
    "Теперь в каждом объекте датасета находится не текст, а последовательность идентификаторов."
   ]
  },
  {
   "cell_type": "code",
   "execution_count": 10,
   "metadata": {},
   "outputs": [
    {
     "data": {
      "text/plain": [
       "[18,\n",
       " 65,\n",
       " 38,\n",
       " 3497,\n",
       " 223,\n",
       " 136,\n",
       " 23,\n",
       " 1,\n",
       " 1601,\n",
       " 18,\n",
       " 56359,\n",
       " 42,\n",
       " 463,\n",
       " 552,\n",
       " 6147,\n",
       " 5,\n",
       " 27,\n",
       " 404,\n",
       " 2,\n",
       " 2642,\n",
       " 1,\n",
       " 6555,\n",
       " 3831,\n",
       " 188,\n",
       " 6,\n",
       " 64,\n",
       " 2,\n",
       " 3137,\n",
       " 1,\n",
       " 46975,\n",
       " 6,\n",
       " 3137,\n",
       " 211141,\n",
       " 379,\n",
       " 3,\n",
       " 1882,\n",
       " 42,\n",
       " 121,\n",
       " 304,\n",
       " 5,\n",
       " 170,\n",
       " 8,\n",
       " 1193,\n",
       " 8918,\n",
       " 76,\n",
       " 38,\n",
       " 1857,\n",
       " 39,\n",
       " 42,\n",
       " 805,\n",
       " 16,\n",
       " 589,\n",
       " 3452,\n",
       " 7,\n",
       " 1,\n",
       " 34440,\n",
       " 121,\n",
       " 5,\n",
       " 1882,\n",
       " 160,\n",
       " 61,\n",
       " 193,\n",
       " 1677,\n",
       " 402,\n",
       " 19,\n",
       " 15,\n",
       " 2174,\n",
       " 47,\n",
       " 4115,\n",
       " 3,\n",
       " 211141,\n",
       " 15,\n",
       " 154,\n",
       " 3211,\n",
       " 2,\n",
       " 154,\n",
       " 2048,\n",
       " 320,\n",
       " 43,\n",
       " 42,\n",
       " 2716,\n",
       " 223,\n",
       " 5,\n",
       " 254,\n",
       " 23,\n",
       " 1,\n",
       " 5993,\n",
       " 62,\n",
       " 21,\n",
       " 16,\n",
       " 1448,\n",
       " 357,\n",
       " 3,\n",
       " 78,\n",
       " 4,\n",
       " 21,\n",
       " 32,\n",
       " 9328,\n",
       " 3977,\n",
       " 60,\n",
       " 56359,\n",
       " 10,\n",
       " 2519,\n",
       " 1812,\n",
       " 1,\n",
       " 429,\n",
       " 6,\n",
       " 53,\n",
       " 1,\n",
       " 4399,\n",
       " 1444,\n",
       " 4,\n",
       " 1604,\n",
       " 33,\n",
       " 979,\n",
       " 400001,\n",
       " 19796,\n",
       " 30411,\n",
       " 275,\n",
       " 12258,\n",
       " 19796,\n",
       " 30411,\n",
       " 275,\n",
       " 12258,\n",
       " 16675,\n",
       " 4572,\n",
       " 35,\n",
       " 4]"
      ]
     },
     "execution_count": 10,
     "metadata": {},
     "output_type": "execute_result"
    }
   ],
   "source": [
    "sequences[0]"
   ]
  },
  {
   "cell_type": "markdown",
   "metadata": {},
   "source": [
    "Проверим, что мы не ошиблись и выполним обратное преобразование для произвольного предложения."
   ]
  },
  {
   "cell_type": "code",
   "execution_count": 11,
   "metadata": {},
   "outputs": [
    {
     "data": {
      "text/plain": [
       "\"with all this stuff going down at the moment with mj i 've started listening to his music , watching the odd documentary here and there , watched the wiz and watched moonwalker again . maybe i just want to get a certain insight into this guy who i thought was really cool in the eighties just to maybe make up my mind whether he is guilty or innocent . moonwalker is part biography , part feature film which i remember going to see at the cinema when it was originally released . some of it has subtle messages about mj 's feeling towards the press and also the obvious message of drugs are bad <UNK> < br / > < br / > visually impressive but of\""
      ]
     },
     "execution_count": 11,
     "metadata": {},
     "output_type": "execute_result"
    }
   ],
   "source": [
    "' '.join([vocab.i2w[i] for i in sequences[0]])"
   ]
  },
  {
   "cell_type": "markdown",
   "metadata": {},
   "source": [
    "Предложения совпадают, значит мы сделали верные преобразования"
   ]
  },
  {
   "cell_type": "markdown",
   "metadata": {},
   "source": [
    "Для решения проблемы, воспользуемся рекеррентной нейронной сетью"
   ]
  },
  {
   "cell_type": "markdown",
   "metadata": {},
   "source": [
    "![rnn.png](rnn.png)"
   ]
  },
  {
   "cell_type": "markdown",
   "metadata": {},
   "source": [
    "Рекуррентные сети способны улавливать зависимости между словами и чувствительны к порядку. \n",
    "\n",
    "Однако, наивная реализация RNN-ячейки не способна показать сколько-нибудь значимые результаты. Воспользуемся ячейкой специального вида, называющейся LSTM. Про LSTM можно прочесть [в блоге Криса Ола](http://colah.github.io/posts/2015-08-Understanding-LSTMs/) и слайдах лекций.\n",
    "\n"
   ]
  },
  {
   "cell_type": "code",
   "execution_count": 12,
   "metadata": {},
   "outputs": [
    {
     "data": {
      "text/plain": [
       "(400002, 100)"
      ]
     },
     "execution_count": 12,
     "metadata": {},
     "output_type": "execute_result"
    }
   ],
   "source": [
    "embeddings.shape"
   ]
  },
  {
   "cell_type": "code",
   "execution_count": 13,
   "metadata": {
    "collapsed": true
   },
   "outputs": [],
   "source": [
    "def build_LSTM_classifier():\n",
    "    # Точка входа в граф задаётся при помощи специальных тензоров типа Input\n",
    "    # Первая координата соответсвует длине текста, так как тексты в датасете имеют разную длину\n",
    "    # значение считается переменным\n",
    "    text_input = layers.Input(shape=(None,), dtype='int32')\n",
    "    \n",
    "    # Создаём специальный слой для работы с embedding, \n",
    "    # Его функция -- заменять индентификатор вектором из Glove\n",
    "    # Указываем trainable = False, чтобы векторы embedding'ов не изменялись в процессе обучения\n",
    "    embedding_layer = layers.Embedding(input_dim = embeddings.shape[0], \n",
    "                                       output_dim = embeddings.shape[1], \n",
    "                                       weights=[embeddings],\n",
    "                                       mask_zero=True,\n",
    "                                       trainable = False)\n",
    "    \n",
    "    x = embedding_layer(text_input)\n",
    "    \n",
    "    # Создаём рекуррентную ячейку\n",
    "    # Первый параметр отвечает за размер внутреннего состояния (памяти ячейки)\n",
    "    # По умолчанию такой слой возвращает только последнее состояние (см. картинку),\n",
    "    # Если мы хотим получить состояния на каждом шаге необходимо указать return_sequences = True\n",
    "    x = layers.LSTM(256, recurrent_dropout=0.25)(x)\n",
    "    \n",
    "    # Полученный результат направляем в полносвязный слой, который будет осуществлять классификацию\n",
    "    output = layers.Dense(1, activation='sigmoid')(x)\n",
    "    \n",
    "    model = models.Model(inputs=text_input, outputs=output, name = 'LSTM_classifier')\n",
    "    \n",
    "    \n",
    "    #  Для оптимизации будем использовать Adam \n",
    "    adam = optimizers.Adam(lr=0.0001)\n",
    "    \n",
    "    #Перед испльзованием модель необходимо скомпилировать\n",
    "    model.compile(adam, 'binary_crossentropy', metrics=['acc'])\n",
    "    \n",
    "    return model "
   ]
  },
  {
   "cell_type": "code",
   "execution_count": 14,
   "metadata": {},
   "outputs": [],
   "source": [
    "backend.clear_session()\n",
    "model = build_LSTM_classifier()"
   ]
  },
  {
   "cell_type": "markdown",
   "metadata": {},
   "source": [
    "Выведем информацию по модели"
   ]
  },
  {
   "cell_type": "code",
   "execution_count": 15,
   "metadata": {},
   "outputs": [
    {
     "name": "stdout",
     "output_type": "stream",
     "text": [
      "_________________________________________________________________\n",
      "Layer (type)                 Output Shape              Param #   \n",
      "=================================================================\n",
      "input_1 (InputLayer)         (None, None)              0         \n",
      "_________________________________________________________________\n",
      "embedding_1 (Embedding)      (None, None, 100)         40000200  \n",
      "_________________________________________________________________\n",
      "lstm_1 (LSTM)                (None, 256)               365568    \n",
      "_________________________________________________________________\n",
      "dense_1 (Dense)              (None, 1)                 257       \n",
      "=================================================================\n",
      "Total params: 40,366,025\n",
      "Trainable params: 365,825\n",
      "Non-trainable params: 40,000,200\n",
      "_________________________________________________________________\n"
     ]
    }
   ],
   "source": [
    "model.summary()"
   ]
  },
  {
   "cell_type": "markdown",
   "metadata": {},
   "source": [
    "Разобьём датасет на три части"
   ]
  },
  {
   "cell_type": "code",
   "execution_count": 16,
   "metadata": {
    "collapsed": true
   },
   "outputs": [],
   "source": [
    "def split_train_val(train_size = 0.6, val_size = 0.1, test_size = 0.3):\n",
    "    boundary_train = int(len(sequences) * train_size)\n",
    "    boundary_val = int(len(sequences) * (train_size + val_size))\n",
    "    \n",
    "    train_set = (sequences[:boundary_train], labels[:boundary_train])\n",
    "    val_set = (sequences[boundary_train:boundary_val], labels[boundary_train:boundary_val])\n",
    "    test_set = (sequences[boundary_val:], labels[boundary_val:])\n",
    "    \n",
    "    return train_set, val_set, test_set"
   ]
  },
  {
   "cell_type": "code",
   "execution_count": 17,
   "metadata": {},
   "outputs": [],
   "source": [
    "(x_train, y_train), (x_val, y_val), (x_test, y_tes) = split_train_val()"
   ]
  },
  {
   "cell_type": "markdown",
   "metadata": {},
   "source": [
    "Почти всё готово, чтобы начать обучение. Но так, как все предлдожения разной длины мы не можем конвертировать x в тензор, нам необходимо выровнять длину. Для этого мы воспользуемся специальной функцией pad_sequences(), доступной в keras. Недостающие элементы будут заполнены специальным символом PAD\n",
    "\n",
    "Но нам не хотелось бы увеличивать все элементы в датасете по размеру максимального. По этогому будем генерировать батчи сами и применять pad_sequences к ним независимо"
   ]
  },
  {
   "cell_type": "code",
   "execution_count": 18,
   "metadata": {},
   "outputs": [],
   "source": [
    "def generate_batches(x, y, batch_size=64):\n",
    "    i = 0\n",
    "    while True:\n",
    "        i = i % len(x)\n",
    "        yield sequence.pad_sequences(x[i:i+batch_size]), y[i:i+batch_size]\n",
    "        i += batch_size"
   ]
  },
  {
   "cell_type": "code",
   "execution_count": 19,
   "metadata": {
    "collapsed": true
   },
   "outputs": [],
   "source": [
    "train_generator = generate_batches(x_train, y_train)\n",
    "val_generator = generate_batches(x_train, y_train)"
   ]
  },
  {
   "cell_type": "markdown",
   "metadata": {},
   "source": [
    "Теперь обучим нашу модель"
   ]
  },
  {
   "cell_type": "code",
   "execution_count": 20,
   "metadata": {},
   "outputs": [
    {
     "name": "stdout",
     "output_type": "stream",
     "text": [
      "Epoch 1/20\n",
      "256/256 [==============================] - 90s 353ms/step - loss: 0.6518 - acc: 0.6062 - val_loss: 0.5865 - val_acc: 0.6914\n",
      "Epoch 2/20\n",
      "256/256 [==============================] - 90s 350ms/step - loss: 0.5668 - acc: 0.7133 - val_loss: 0.5554 - val_acc: 0.7215\n",
      "Epoch 3/20\n",
      "256/256 [==============================] - 89s 349ms/step - loss: 0.5476 - acc: 0.7247 - val_loss: 0.5222 - val_acc: 0.7445\n",
      "Epoch 4/20\n",
      "256/256 [==============================] - 89s 349ms/step - loss: 0.5326 - acc: 0.7347 - val_loss: 0.5458 - val_acc: 0.7336\n",
      "Epoch 5/20\n",
      "256/256 [==============================] - 89s 347ms/step - loss: 0.5209 - acc: 0.7438 - val_loss: 0.6306 - val_acc: 0.7095\n",
      "Epoch 6/20\n",
      "256/256 [==============================] - 90s 350ms/step - loss: 0.5207 - acc: 0.7440 - val_loss: 0.5247 - val_acc: 0.7551\n",
      "Epoch 7/20\n",
      "256/256 [==============================] - 89s 349ms/step - loss: 0.5061 - acc: 0.7558 - val_loss: 0.4683 - val_acc: 0.7820\n",
      "Epoch 8/20\n",
      "256/256 [==============================] - 89s 348ms/step - loss: 0.4964 - acc: 0.7607 - val_loss: 0.4911 - val_acc: 0.7637\n",
      "Epoch 9/20\n",
      "256/256 [==============================] - 89s 347ms/step - loss: 0.4882 - acc: 0.7679 - val_loss: 0.4598 - val_acc: 0.7777\n",
      "Epoch 10/20\n",
      "256/256 [==============================] - 88s 345ms/step - loss: 0.4821 - acc: 0.7715 - val_loss: 0.4976 - val_acc: 0.7712\n",
      "Epoch 11/20\n",
      "255/256 [============================>.] - ETA: 0s - loss: 0.4728 - acc: 0.7776\n",
      "Epoch 00011: reducing learning rate to 1e-05.\n",
      "256/256 [==============================] - 89s 347ms/step - loss: 0.4723 - acc: 0.7779 - val_loss: 0.5003 - val_acc: 0.7754\n",
      "Epoch 12/20\n",
      "256/256 [==============================] - 90s 353ms/step - loss: 0.4515 - acc: 0.7926 - val_loss: 0.4354 - val_acc: 0.7926\n",
      "Epoch 13/20\n",
      "256/256 [==============================] - 89s 347ms/step - loss: 0.4482 - acc: 0.7928 - val_loss: 0.4374 - val_acc: 0.7980\n",
      "Epoch 14/20\n",
      "256/256 [==============================] - 90s 351ms/step - loss: 0.4466 - acc: 0.7937 - val_loss: 0.4396 - val_acc: 0.7969\n",
      "Epoch 15/20\n",
      "256/256 [==============================] - 89s 349ms/step - loss: 0.4430 - acc: 0.7953 - val_loss: 0.4479 - val_acc: 0.7891\n",
      "Epoch 16/20\n",
      "256/256 [==============================] - 90s 352ms/step - loss: 0.4372 - acc: 0.7993 - val_loss: 0.4525 - val_acc: 0.7914\n",
      "Epoch 17/20\n",
      "256/256 [==============================] - 90s 351ms/step - loss: 0.4433 - acc: 0.7953 - val_loss: 0.4346 - val_acc: 0.8043\n",
      "Epoch 18/20\n",
      "256/256 [==============================] - 89s 348ms/step - loss: 0.4370 - acc: 0.7996 - val_loss: 0.4336 - val_acc: 0.7957\n",
      "Epoch 19/20\n",
      "256/256 [==============================] - 88s 343ms/step - loss: 0.4356 - acc: 0.7986 - val_loss: 0.4281 - val_acc: 0.8026\n",
      "Epoch 20/20\n",
      "256/256 [==============================] - 89s 348ms/step - loss: 0.4367 - acc: 0.7994 - val_loss: 0.4449 - val_acc: 0.7930\n"
     ]
    },
    {
     "data": {
      "text/plain": [
       "<keras.callbacks.History at 0x7facabb5abe0>"
      ]
     },
     "execution_count": 20,
     "metadata": {},
     "output_type": "execute_result"
    }
   ],
   "source": [
    "cbs = [\n",
    "    callbacks.ModelCheckpoint('models/LSTM/{epoch:02d}-{val_loss:.4f}.h5', save_best_only=True),\n",
    "    callbacks.TensorBoard(log_dir='models/LSTM/'),\n",
    "    callbacks.ReduceLROnPlateau(factor=0.1, patience=3, verbose=1, min_lr=0.00001, epsilon=0.01)]\n",
    "\n",
    "\n",
    "model.fit_generator(generator= train_generator, \n",
    "                    validation_data = val_generator, \n",
    "                    validation_steps= 40,\n",
    "                    steps_per_epoch=256,\n",
    "                    epochs=20,\n",
    "                    callbacks=cbs)"
   ]
  },
  {
   "cell_type": "code",
   "execution_count": 22,
   "metadata": {},
   "outputs": [
    {
     "name": "stdout",
     "output_type": "stream",
     "text": [
      "7500/7500 [==============================] - 14s 2ms/step\n"
     ]
    },
    {
     "data": {
      "text/plain": [
       "[0.46759841016133624, 0.77959999998410545]"
      ]
     },
     "execution_count": 22,
     "metadata": {},
     "output_type": "execute_result"
    }
   ],
   "source": [
    "model.evaluate(sequence.pad_sequences(x_test), y=y_tes, batch_size=64)"
   ]
  },
  {
   "cell_type": "markdown",
   "metadata": {},
   "source": [
    "77% Неплохой результат, но можно лучше.\n",
    "\n",
    "Проблема в том, что RNN забывают начало последовательности, а в нашем датасете все рецензии достаточно велики. Есть способ уменьшить влияние этого эффекта -- обучить два LSTM, один идёт от начала к концу предложения, а другой -- от конца к началу. Такой подход называется bidirectional"
   ]
  },
  {
   "cell_type": "code",
   "execution_count": 43,
   "metadata": {
    "collapsed": true
   },
   "outputs": [],
   "source": [
    "def build_biLSTM_classifier():\n",
    "    text_input = layers.Input(shape=(None,), dtype='int32')\n",
    "    \n",
    "\n",
    "    embedding_layer = layers.Embedding(input_dim = embeddings.shape[0], \n",
    "                                       output_dim = embeddings.shape[1], \n",
    "                                       weights=[embeddings],\n",
    "                                       mask_zero=True,\n",
    "                                       trainable = False)\n",
    "    \n",
    "    x = embedding_layer(text_input)\n",
    "\n",
    "    # Всё что нужно изменить. В keras есть специальный слой для реализации bidirectional моделей\n",
    "    x = layers.Bidirectional(layers.LSTM(256, recurrent_dropout=0.25))(x)\n",
    "    \n",
    "    output = layers.Dense(1, activation='sigmoid')(x)\n",
    "    \n",
    "    model = models.Model(inputs=text_input, outputs=output, name = 'LSTM_classifier')\n",
    "    \n",
    "    \n",
    "    adam = optimizers.Adam(lr=0.0001)\n",
    "    \n",
    "    model.compile(adam, 'binary_crossentropy', metrics=['acc'])\n",
    "    \n",
    "    return model "
   ]
  },
  {
   "cell_type": "code",
   "execution_count": 44,
   "metadata": {
    "collapsed": true
   },
   "outputs": [],
   "source": [
    "backend.clear_session()\n",
    "model = build_biLSTM_classifier()"
   ]
  },
  {
   "cell_type": "code",
   "execution_count": 45,
   "metadata": {},
   "outputs": [
    {
     "name": "stdout",
     "output_type": "stream",
     "text": [
      "_________________________________________________________________\n",
      "Layer (type)                 Output Shape              Param #   \n",
      "=================================================================\n",
      "input_1 (InputLayer)         (None, None)              0         \n",
      "_________________________________________________________________\n",
      "embedding_1 (Embedding)      (None, None, 100)         40000200  \n",
      "_________________________________________________________________\n",
      "bidirectional_1 (Bidirection (None, 512)               731136    \n",
      "_________________________________________________________________\n",
      "dense_1 (Dense)              (None, 1)                 513       \n",
      "=================================================================\n",
      "Total params: 40,731,849\n",
      "Trainable params: 731,649\n",
      "Non-trainable params: 40,000,200\n",
      "_________________________________________________________________\n"
     ]
    }
   ],
   "source": [
    "model.summary()"
   ]
  },
  {
   "cell_type": "code",
   "execution_count": 48,
   "metadata": {},
   "outputs": [
    {
     "name": "stdout",
     "output_type": "stream",
     "text": [
      "Epoch 1/20\n",
      "128/128 [==============================] - 65s 507ms/step - loss: 0.4256 - acc: 0.8004 - val_loss: 0.4060 - val_acc: 0.8121\n",
      "Epoch 2/20\n",
      "128/128 [==============================] - 63s 488ms/step - loss: 0.4223 - acc: 0.8052 - val_loss: 0.4241 - val_acc: 0.8063\n",
      "Epoch 3/20\n",
      "128/128 [==============================] - 66s 518ms/step - loss: 0.4094 - acc: 0.8157 - val_loss: 0.4375 - val_acc: 0.7918\n",
      "Epoch 4/20\n",
      "128/128 [==============================] - 66s 515ms/step - loss: 0.4126 - acc: 0.8124 - val_loss: 0.3751 - val_acc: 0.8313\n",
      "Epoch 5/20\n",
      "128/128 [==============================] - 66s 512ms/step - loss: 0.3997 - acc: 0.8181 - val_loss: 0.4413 - val_acc: 0.7805\n",
      "Epoch 6/20\n",
      "128/128 [==============================] - 66s 512ms/step - loss: 0.4080 - acc: 0.8123 - val_loss: 0.3937 - val_acc: 0.8207\n",
      "Epoch 7/20\n",
      "128/128 [==============================] - 68s 527ms/step - loss: 0.3892 - acc: 0.8251 - val_loss: 0.3745 - val_acc: 0.8405\n",
      "Epoch 8/20\n",
      "127/128 [============================>.] - ETA: 0s - loss: 0.3919 - acc: 0.8230\n",
      "Epoch 00008: reducing learning rate to 1e-05.\n",
      "128/128 [==============================] - 66s 514ms/step - loss: 0.3923 - acc: 0.8226 - val_loss: 0.3941 - val_acc: 0.8176\n",
      "Epoch 9/20\n",
      "128/128 [==============================] - 65s 507ms/step - loss: 0.3686 - acc: 0.8370 - val_loss: 0.3602 - val_acc: 0.8383\n",
      "Epoch 10/20\n",
      "128/128 [==============================] - 65s 507ms/step - loss: 0.3625 - acc: 0.8365 - val_loss: 0.3481 - val_acc: 0.8477\n",
      "Epoch 11/20\n",
      "128/128 [==============================] - 61s 480ms/step - loss: 0.3689 - acc: 0.8364 - val_loss: 0.3552 - val_acc: 0.8465\n",
      "Epoch 12/20\n",
      "128/128 [==============================] - 65s 504ms/step - loss: 0.3556 - acc: 0.8412 - val_loss: 0.3735 - val_acc: 0.8344\n",
      "Epoch 13/20\n",
      "128/128 [==============================] - 64s 497ms/step - loss: 0.3631 - acc: 0.8402 - val_loss: 0.3587 - val_acc: 0.8355\n",
      "Epoch 14/20\n",
      "128/128 [==============================] - 65s 511ms/step - loss: 0.3522 - acc: 0.8433 - val_loss: 0.3625 - val_acc: 0.8281\n",
      "Epoch 15/20\n",
      "128/128 [==============================] - 61s 480ms/step - loss: 0.3601 - acc: 0.8420 - val_loss: 0.3616 - val_acc: 0.8395\n",
      "Epoch 16/20\n",
      "128/128 [==============================] - 66s 514ms/step - loss: 0.3531 - acc: 0.8438 - val_loss: 0.3556 - val_acc: 0.8514\n",
      "Epoch 17/20\n",
      "128/128 [==============================] - 63s 490ms/step - loss: 0.3609 - acc: 0.8383 - val_loss: 0.3650 - val_acc: 0.8391\n",
      "Epoch 18/20\n",
      "128/128 [==============================] - 66s 515ms/step - loss: 0.3491 - acc: 0.8494 - val_loss: 0.3329 - val_acc: 0.8598\n",
      "Epoch 19/20\n",
      "128/128 [==============================] - 62s 485ms/step - loss: 0.3552 - acc: 0.8387 - val_loss: 0.3393 - val_acc: 0.8469\n",
      "Epoch 20/20\n",
      "128/128 [==============================] - 66s 512ms/step - loss: 0.3494 - acc: 0.8498 - val_loss: 0.3462 - val_acc: 0.8539\n"
     ]
    },
    {
     "data": {
      "text/plain": [
       "<keras.callbacks.History at 0x7fa7c32105f8>"
      ]
     },
     "execution_count": 48,
     "metadata": {},
     "output_type": "execute_result"
    }
   ],
   "source": [
    "cbs = [\n",
    "    callbacks.ModelCheckpoint('models/biLSTM/{epoch:02d}-{val_loss:.4f}.h5', save_best_only=True),\n",
    "    callbacks.TensorBoard(log_dir='models/biLSTM/'),\n",
    "    callbacks.ReduceLROnPlateau(factor=0.1, patience=3, verbose=1, min_lr=0.00001, epsilon=0.01)]\n",
    "\n",
    "\n",
    "model.fit_generator(generator= train_generator, \n",
    "                    validation_data = val_generator, \n",
    "                    validation_steps= 40,\n",
    "                    steps_per_epoch=128,\n",
    "                    epochs=20,\n",
    "                    callbacks=cbs)"
   ]
  },
  {
   "cell_type": "code",
   "execution_count": 57,
   "metadata": {},
   "outputs": [
    {
     "name": "stdout",
     "output_type": "stream",
     "text": [
      "7500/7500 [==============================] - 18s 2ms/step\n"
     ]
    },
    {
     "data": {
      "text/plain": [
       "[0.45073856875101725, 0.79440000003178912]"
      ]
     },
     "execution_count": 57,
     "metadata": {},
     "output_type": "execute_result"
    }
   ],
   "source": [
    "model.evaluate(sequence.pad_sequences(x_test), y=y_tes, batch_size=64)"
   ]
  },
  {
   "cell_type": "markdown",
   "metadata": {},
   "source": [
    "Стало лучше, но вероятно дополнительные проценты можно получить продолжив тренировку, а так же убрав ограничение на максимальную длину последовательности или увеличив ёмкость сети. **Поэкспериментируйте!**"
   ]
  },
  {
   "cell_type": "markdown",
   "metadata": {},
   "source": [
    "Важно помнить, что RNN не являются единственной моделью для работы с последовательностями (и текстом в частности). Например, существую эфективные [модели, основанные на свёртках](https://arxiv.org/abs/1612.08083)."
   ]
  },
  {
   "cell_type": "code",
   "execution_count": null,
   "metadata": {
    "collapsed": true
   },
   "outputs": [],
   "source": []
  }
 ],
 "metadata": {
  "kernelspec": {
   "display_name": "Python 3",
   "language": "python",
   "name": "python3"
  },
  "language_info": {
   "codemirror_mode": {
    "name": "ipython",
    "version": 3
   },
   "file_extension": ".py",
   "mimetype": "text/x-python",
   "name": "python",
   "nbconvert_exporter": "python",
   "pygments_lexer": "ipython3",
   "version": "3.6.3"
  }
 },
 "nbformat": 4,
 "nbformat_minor": 2
}
